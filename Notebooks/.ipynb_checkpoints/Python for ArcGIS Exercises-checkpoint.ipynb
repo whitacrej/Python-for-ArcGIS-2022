{
 "cells": [
  {
   "cell_type": "markdown",
   "metadata": {},
   "source": [
    "# Python for ArcGIS Exercises\n",
    "---"
   ]
  },
  {
   "cell_type": "markdown",
   "metadata": {},
   "source": [
    "These exercises are designed to help you learn Python in ArcGIS by focusing on the problem solving aspect of creating Python scripts. Some exercises may have more than one solution, as could be the case in any problem. Some tips may be included to help you along."
   ]
  },
  {
   "cell_type": "markdown",
   "metadata": {},
   "source": [
    "## Exercise 1\n",
    "\n",
    "---"
   ]
  },
  {
   "cell_type": "markdown",
   "metadata": {},
   "source": [
    "Choose 4 different datasets and types (feature class, table, file, etc) and use the **[arcpy.Describe](https://pro.arcgis.com/en/pro-app/latest/arcpy/functions/describe.htm)** function to describe 4 different properties of each without repeating the different describe properties.\n",
    "\n",
    "* Follow the example code below\n",
    "* You should end up with 16 different Describe propeties\n",
    "* ArcPy is already imported for you!!"
   ]
  },
  {
   "cell_type": "code",
   "execution_count": null,
   "metadata": {},
   "outputs": [],
   "source": [
    "import arcpy\n",
    "# Get the dataset path\n",
    "dataset1 = r'C:\\Folder\\Geodatabase.gdb\\Feature_Class'\n",
    "# Create the Describe object\n",
    "dataset1_desc = arcpy.Describe(dataset1)\n",
    "# Print the Describe properties\n",
    "# Print XX propety\n",
    "print(dataset1_desc.property1)\n",
    "# Print XX propety\n",
    "print(dataset1_desc.property2)\n",
    "# Print XX propety\n",
    "print(dataset1_desc.property3)\n",
    "# Print XX propety\n",
    "print(dataset1_desc.property4)"
   ]
  },
  {
   "cell_type": "markdown",
   "metadata": {},
   "source": [
    "## Exercise 2\n",
    "\n",
    "---"
   ]
  },
  {
   "cell_type": "markdown",
   "metadata": {},
   "source": [
    "Using the **Illinois Counties** layer or feature class, create a new field named **'Sum_Field'** that <a href=\"https://www.programiz.com/python-programming/methods/built-in/sum\" target=\"_blank\">sums</a> all the numeric fields.\n",
    "\n",
    "\n",
    "* Use the **<a href=\"https://pro.arcgis.com/en/pro-app/2.7/tool-reference/data-management/calculate-field.htm\" target=\"_blank\">Calculate Field Tool</a>**\n",
    "* You MAY NOT hard code the field names. You must use list comprehension with the **<a href=\"https://pro.arcgis.com/en/pro-app/2.7/arcpy/functions/listfields.htm\" target=\"_blank\">`ListFields()` function</a>**\n",
    "* When creating your `expression` parameter, you will want to utilize string formatting. See https://pyformat.info/ and https://docs.python.org/3/library/string.html#custom-string-formatting and https://realpython.com/python-f-strings/\n",
    "* Don't forget that fields in the `expression` parameter should be wrapped in exclamation points: `!Field_Name!`"
   ]
  },
  {
   "cell_type": "code",
   "execution_count": null,
   "metadata": {},
   "outputs": [],
   "source": []
  },
  {
   "cell_type": "markdown",
   "metadata": {},
   "source": [
    "## Exercise 3\n",
    "\n",
    "---"
   ]
  },
  {
   "cell_type": "markdown",
   "metadata": {},
   "source": [
    "Think of a recent 3- to 5-step geoproecessing or analysis workflow you recently performed. Recreate the workflow using Python  to run your geoprocesing tools.\n",
    "\n",
    "\n",
    "* Use your **[Geoprocessing History](https://pro.arcgis.com/en/pro-app/latest/help/analysis/geoprocessing/basics/geoprocessing-history.htm)** to copy the Python commands\n",
    "* Create variables for feature class or table inputs and outputs"
   ]
  },
  {
   "cell_type": "code",
   "execution_count": null,
   "metadata": {},
   "outputs": [],
   "source": []
  }
 ],
 "metadata": {
  "kernelspec": {
   "display_name": "ArcGISPro",
   "language": "Python",
   "name": "python3"
  },
  "language_info": {
   "file_extension": ".py",
   "name": "python",
   "version": "3"
  }
 },
 "nbformat": 4,
 "nbformat_minor": 2
}
